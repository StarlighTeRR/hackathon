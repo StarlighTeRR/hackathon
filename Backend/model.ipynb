{
 "cells": [
  {
   "cell_type": "code",
   "execution_count": 56,
   "metadata": {},
   "outputs": [],
   "source": [
    "import pandas as pd\n",
    "from sklearn.feature_extraction.text import CountVectorizer\n",
    "from sklearn.ensemble import RandomForestClassifier\n",
    "from sklearn.pipeline import make_pipeline\n",
    "from sklearn.model_selection import train_test_split\n",
    "from sklearn.preprocessing import LabelEncoder\n"
   ]
  },
  {
   "cell_type": "markdown",
   "metadata": {},
   "source": [
    "Словарь направлений"
   ]
  },
  {
   "cell_type": "code",
   "execution_count": 3,
   "metadata": {},
   "outputs": [],
   "source": [
    "direction_names = {\n",
    "    2: \"Информатика и вычислительная техника\",\n",
    "    3: \"Программная инженерия\",\n",
    "    4: \"Информационная безопасность\",\n",
    "    5: \"Биология\",\n",
    "    6: \"Математика и математическое моделирование\"\n",
    "}"
   ]
  },
  {
   "cell_type": "markdown",
   "metadata": {},
   "source": [
    "Очистка датасета"
   ]
  },
  {
   "cell_type": "code",
   "execution_count": 49,
   "metadata": {},
   "outputs": [
    {
     "name": "stdout",
     "output_type": "stream",
     "text": [
      "   direction  math  informatics   geometry   algebra   physics  chemistry  \\\n",
      "0          2     1            1          1         0         0          0   \n",
      "1          2     1            1          0         0         0          0   \n",
      "2          2     0            1          1         0         0          0   \n",
      "3          2     1            0          1         0         0          0   \n",
      "4          2     1            1          0         0         1          0   \n",
      "\n",
      "   Unnamed: 7  biology   geography      mean  \n",
      "0           0        0         NaN  0.555556  \n",
      "1           0        0         NaN  0.444444  \n",
      "2           0        0         NaN  0.444444  \n",
      "3           0        0         NaN  0.444444  \n",
      "4           1        0         NaN  0.666667  \n"
     ]
    }
   ],
   "source": [
    "# Загрузка данных из CSV файла\n",
    "data = pd.read_csv('education_directions.csv')\n",
    "\n",
    "# Удаление дубликатов\n",
    "data.drop_duplicates(inplace=True)\n",
    "\n",
    "# Добавление новых признаков средних значений\n",
    "data['mean'] = data.mean(axis=1)\n",
    "\n",
    "# Вывод первых нескольких строк для проверки\n",
    "print(data.head())\n",
    "\n",
    "# Сохранение измененного датасета в новый CSV файл\n",
    "data.to_csv('education_directions.csv', index=False)"
   ]
  },
  {
   "cell_type": "code",
   "execution_count": 50,
   "metadata": {},
   "outputs": [
    {
     "name": "stdout",
     "output_type": "stream",
     "text": [
      "direction\n",
      "2    21\n",
      "4    18\n",
      "6    18\n",
      "3    17\n",
      "5    10\n",
      "Name: count, dtype: int64\n"
     ]
    }
   ],
   "source": [
    "# Загрузка данных из CSV файла\n",
    "data = pd.read_csv('education_directions.csv')\n",
    "\n",
    "# Проверка распределения данных\n",
    "print(data['direction'].value_counts())\n",
    "\n",
    "# Подготовка данных\n",
    "X = data.drop('direction', axis=1).apply(lambda row: ' '.join(row.astype(str)), axis=1)\n",
    "y = data['direction']\n",
    "\n",
    "# Кодирование направлений в числовые метки\n",
    "label_encoder = LabelEncoder()\n",
    "y_encoded = label_encoder.fit_transform(y)\n",
    "\n",
    "# Разделение данных на обучающую и тестовую выборки\n",
    "X_train, X_test, y_train, y_test = train_test_split(X, y_encoded, test_size=0.6, random_state=42)"
   ]
  },
  {
   "cell_type": "markdown",
   "metadata": {},
   "source": [
    "Создание и обучение модели"
   ]
  },
  {
   "cell_type": "code",
   "execution_count": 51,
   "metadata": {},
   "outputs": [],
   "source": [
    "def train_model(X_train, y_train):\n",
    "    model = make_pipeline(CountVectorizer(token_pattern=r'(?u)\\b\\w+\\b'), RandomForestClassifier(random_state=42))\n",
    "    model.fit(X_train, y_train)\n",
    "    return model"
   ]
  },
  {
   "cell_type": "code",
   "execution_count": 52,
   "metadata": {},
   "outputs": [
    {
     "name": "stdout",
     "output_type": "stream",
     "text": [
      "Точность модели на тестовой выборке: 0.803921568627451\n"
     ]
    }
   ],
   "source": [
    "model = train_model(X_train, y_train)\n",
    "\n",
    "# Оценка модели\n",
    "accuracy = model.score(X_test, y_test)\n",
    "print(\"Точность модели на тестовой выборке:\", accuracy)"
   ]
  },
  {
   "cell_type": "code",
   "execution_count": 62,
   "metadata": {},
   "outputs": [
    {
     "name": "stdout",
     "output_type": "stream",
     "text": [
      "Рекомендованное направление: Информационная безопасность\n"
     ]
    }
   ],
   "source": [
    "def predict_direction(model, label_encoder, subjects, direction_names):\n",
    "    text_representation = ' '.join(map(str, subjects))\n",
    "    prediction_encoded = model.predict([text_representation])\n",
    "    prediction_decoded = label_encoder.inverse_transform(prediction_encoded)\n",
    "    predicted_direction = direction_names[prediction_decoded[0]]\n",
    "    return predicted_direction\n",
    "\n",
    "# Пример ввода любимых предметов\n",
    "favorite_subjects = [1, 1, 0, 0, 0, 0, 1, 0]  # Математика, информатика, физика\n",
    "\n",
    "# Получение предсказания\n",
    "predicted_direction = predict_direction(model, label_encoder, favorite_subjects, direction_names)\n",
    "print(\"Рекомендованное направление:\", predicted_direction)"
   ]
  },
  {
   "cell_type": "code",
   "execution_count": 57,
   "metadata": {},
   "outputs": [],
   "source": [
    "import joblib"
   ]
  },
  {
   "cell_type": "code",
   "execution_count": 58,
   "metadata": {},
   "outputs": [
    {
     "data": {
      "text/plain": [
       "['model.joblib']"
      ]
     },
     "execution_count": 58,
     "metadata": {},
     "output_type": "execute_result"
    }
   ],
   "source": [
    "joblib.dump(model, 'model.joblib')"
   ]
  }
 ],
 "metadata": {
  "kernelspec": {
   "display_name": "Python 3",
   "language": "python",
   "name": "python3"
  },
  "language_info": {
   "codemirror_mode": {
    "name": "ipython",
    "version": 3
   },
   "file_extension": ".py",
   "mimetype": "text/x-python",
   "name": "python",
   "nbconvert_exporter": "python",
   "pygments_lexer": "ipython3",
   "version": "3.11.5"
  }
 },
 "nbformat": 4,
 "nbformat_minor": 2
}
